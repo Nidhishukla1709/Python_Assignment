{
 "cells": [
  {
   "cell_type": "markdown",
   "id": "a26647f7",
   "metadata": {},
   "source": [
    "# Python Basic Programming Assignment - 5\n",
    " # 1. Write a Python Program to Find LCM? "
   ]
  },
  {
   "cell_type": "code",
   "execution_count": 2,
   "id": "f80e8fa9",
   "metadata": {},
   "outputs": [
    {
     "name": "stdout",
     "output_type": "stream",
     "text": [
      "Enter 1st number :12\n",
      "Enter 2nd number :12\n",
      "lcm is =  12.0\n"
     ]
    }
   ],
   "source": [
    "smaller=0\n",
    "def HCF(a,b):\n",
    "    if a>b:\n",
    "        smaller=b\n",
    "    else:\n",
    "        smaller=a  \n",
    "    for i in range(2,smaller+1):\n",
    "        if(a%i==0 and b%i==0):\n",
    "            hcf=i\n",
    "    return hcf\n",
    "\n",
    "a=int(input(\"Enter 1st number :\"))\n",
    "b=int(input(\"Enter 2nd number :\"))\n",
    "ja_na= HCF(a,b)\n",
    "lcm=((a*b)/ja_na)\n",
    "print(\"lcm is = \",+lcm)"
   ]
  },
  {
   "cell_type": "markdown",
   "id": "7c949d18",
   "metadata": {},
   "source": [
    "# 2. Write a Python Program to Find HCF?"
   ]
  },
  {
   "cell_type": "code",
   "execution_count": 3,
   "id": "92c11613",
   "metadata": {},
   "outputs": [
    {
     "name": "stdout",
     "output_type": "stream",
     "text": [
      "Enter 1st number :11\n",
      "Enter 2nd number :11\n",
      "HCF is =  11\n"
     ]
    }
   ],
   "source": [
    "smaller=0\n",
    "def HCF(a,b):\n",
    "    if a>b:\n",
    "        smaller=b\n",
    "    else:\n",
    "        smaller=a  \n",
    "    for i in range(2,smaller+1):\n",
    "        if(a%i==0 and b%i==0):\n",
    "            hcf=i\n",
    "    return hcf\n",
    "\n",
    "a=int(input(\"Enter 1st number :\"))\n",
    "b=int(input(\"Enter 2nd number :\"))\n",
    "ja_na= HCF(a,b)\n",
    "print(\"HCF is = \",+ja_na)"
   ]
  },
  {
   "cell_type": "markdown",
   "id": "0b65e6f0",
   "metadata": {},
   "source": [
    "# 3. Write a Python Program to Convert Decimal to Binary, Octal and Hexadecimal?"
   ]
  },
  {
   "cell_type": "code",
   "execution_count": 4,
   "id": "782d0811",
   "metadata": {},
   "outputs": [
    {
     "name": "stdout",
     "output_type": "stream",
     "text": [
      "The decimal value of 344 is:\n",
      "0b101011000 in binary.\n",
      "0o530 in octal.\n",
      "0x158 in hexadecimal.\n"
     ]
    }
   ],
   "source": [
    "# Python program to convert decimal into other number systems\n",
    "dec = 344\n",
    "\n",
    "print(\"The decimal value of\", dec, \"is:\")\n",
    "print(bin(dec), \"in binary.\")\n",
    "print(oct(dec), \"in octal.\")\n",
    "print(hex(dec), \"in hexadecimal.\")"
   ]
  },
  {
   "cell_type": "markdown",
   "id": "2cbb974c",
   "metadata": {},
   "source": [
    "# 4. Write a Python Program To Find ASCII value of a character?\n"
   ]
  },
  {
   "cell_type": "code",
   "execution_count": 5,
   "id": "c0b89de2",
   "metadata": {},
   "outputs": [
    {
     "name": "stdout",
     "output_type": "stream",
     "text": [
      "Enter any character: e\n",
      "The ASCII value of char e is:  101\n"
     ]
    }
   ],
   "source": [
    "ch = input(\"Enter any character: \")\n",
    "\n",
    "print(\"The ASCII value of char \" + ch + \" is: \",ord(ch))"
   ]
  },
  {
   "cell_type": "markdown",
   "id": "b0baec3e",
   "metadata": {},
   "source": [
    "# 5. Write a Python Program to Make a Simple Calculator with 4 basic mathematical operations?"
   ]
  },
  {
   "cell_type": "code",
   "execution_count": 6,
   "id": "006d4e57",
   "metadata": {},
   "outputs": [
    {
     "name": "stdout",
     "output_type": "stream",
     "text": [
      "Select operation.\n",
      "1.Add\n",
      "2.Subtract\n",
      "3.Multiply\n",
      "4.Divide\n",
      "Enter choice(1/2/3/4): 2\n",
      "Enter first number: 78\n",
      "Enter second number: 69\n",
      "78.0 - 69.0 = 9.0\n",
      "Let's do next calculation? (yes/no): no\n"
     ]
    }
   ],
   "source": [
    "def add(x, y):\n",
    "    return x + y\n",
    "def subtract(x, y):\n",
    "    return x - y\n",
    "def multiply(x, y):\n",
    "    return x * y\n",
    "def divide(x, y):\n",
    "    return x / y\n",
    "\n",
    "\n",
    "print(\"Select operation.\")\n",
    "print(\"1.Add\")\n",
    "print(\"2.Subtract\")\n",
    "print(\"3.Multiply\")\n",
    "print(\"4.Divide\")\n",
    "\n",
    "while True:\n",
    "    choice = input(\"Enter choice(1/2/3/4): \")\n",
    "    if choice in ('1', '2', '3', '4'):\n",
    "        num1 = float(input(\"Enter first number: \"))\n",
    "        num2 = float(input(\"Enter second number: \"))\n",
    "\n",
    "        if choice == '1':\n",
    "            print(num1, \"+\", num2, \"=\", add(num1, num2))\n",
    "\n",
    "        elif choice == '2':\n",
    "            print(num1, \"-\", num2, \"=\", subtract(num1, num2))\n",
    "\n",
    "        elif choice == '3':\n",
    "            print(num1, \"*\", num2, \"=\", multiply(num1, num2))\n",
    "\n",
    "        elif choice == '4':\n",
    "            print(num1, \"/\", num2, \"=\", divide(num1, num2))\n",
    "        next_calculation = input(\"Let's do next calculation? (yes/no): \")\n",
    "        if next_calculation == \"no\":\n",
    "          break\n",
    "    \n",
    "    else:\n",
    "        print(\"Invalid Input\")"
   ]
  },
  {
   "cell_type": "code",
   "execution_count": null,
   "id": "7a75b874",
   "metadata": {},
   "outputs": [],
   "source": []
  }
 ],
 "metadata": {
  "kernelspec": {
   "display_name": "Python 3 (ipykernel)",
   "language": "python",
   "name": "python3"
  },
  "language_info": {
   "codemirror_mode": {
    "name": "ipython",
    "version": 3
   },
   "file_extension": ".py",
   "mimetype": "text/x-python",
   "name": "python",
   "nbconvert_exporter": "python",
   "pygments_lexer": "ipython3",
   "version": "3.9.13"
  }
 },
 "nbformat": 4,
 "nbformat_minor": 5
}
