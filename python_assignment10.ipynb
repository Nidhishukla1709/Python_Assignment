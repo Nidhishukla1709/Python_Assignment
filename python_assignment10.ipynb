{
 "cells": [
  {
   "cell_type": "markdown",
   "id": "1e2bb440",
   "metadata": {},
   "source": [
    "# Python Basic Programming Assignment 10\n",
    "## 1. Write a Python program to find sum of elements in list?"
   ]
  },
  {
   "cell_type": "code",
   "execution_count": 1,
   "id": "3b139cce",
   "metadata": {},
   "outputs": [
    {
     "name": "stdout",
     "output_type": "stream",
     "text": [
      "[10, 33, 45, 66, 76]\n",
      "sum of list:  230\n"
     ]
    }
   ],
   "source": [
    "# sum of elements\n",
    "\n",
    "def sumlist(list):\n",
    "    sum=0\n",
    "    for i in range(len(list)):\n",
    "        sum = sum+list[i]\n",
    "    return sum\n",
    "\n",
    "#initialise list\n",
    "list = [10,33,45,66,76]\n",
    "print(list)\n",
    "print(\"sum of list: \",sumlist(list))"
   ]
  },
  {
   "cell_type": "markdown",
   "id": "88bb95f2",
   "metadata": {},
   "source": [
    "## 2. Write a Python program to Multiply all numbers in the list?"
   ]
  },
  {
   "cell_type": "code",
   "execution_count": 2,
   "id": "0f5ffaf2",
   "metadata": {},
   "outputs": [
    {
     "name": "stdout",
     "output_type": "stream",
     "text": [
      "[12, 12, 4, 3]\n",
      "product:\n",
      "1728\n"
     ]
    }
   ],
   "source": [
    "def mul_list(list):\n",
    "  product = 1\n",
    "  for i in list :\n",
    "    product = product * i\n",
    "  return product\n",
    "\n",
    "list1 = [12,12,4,3]\n",
    "print(list1)\n",
    "print(\"product:\")\n",
    "print(mul_list(list1))"
   ]
  },
  {
   "cell_type": "markdown",
   "id": "47b4752f",
   "metadata": {},
   "source": [
    "## 3. Write a Python program to find smallest number in a list?"
   ]
  },
  {
   "cell_type": "code",
   "execution_count": 3,
   "id": "1bada4ac",
   "metadata": {},
   "outputs": [
    {
     "name": "stdout",
     "output_type": "stream",
     "text": [
      "smallest number in the list is :0 \n"
     ]
    }
   ],
   "source": [
    "list = [24,5,6,89,0,1,22,34,45,56,78]\n",
    "\n",
    "smallest = min(list)\n",
    "\n",
    "print(f'smallest number in the list is :{smallest} ')"
   ]
  },
  {
   "cell_type": "markdown",
   "id": "883d1203",
   "metadata": {},
   "source": [
    "## 4. Write a Python program to find largest number in a list?"
   ]
  },
  {
   "cell_type": "code",
   "execution_count": 4,
   "id": "67492f9d",
   "metadata": {},
   "outputs": [
    {
     "name": "stdout",
     "output_type": "stream",
     "text": [
      "largest number in the list is :564875\n"
     ]
    }
   ],
   "source": [
    "S = [33,44,22,11,44,53,80,74,564875]\n",
    "\n",
    "largest = max(S)\n",
    "print(f'largest number in the list is :{largest}')"
   ]
  },
  {
   "cell_type": "markdown",
   "id": "4734438c",
   "metadata": {},
   "source": [
    "## 5. Write a Python program to find second largest number in a list?"
   ]
  },
  {
   "cell_type": "code",
   "execution_count": 5,
   "id": "5448efee",
   "metadata": {},
   "outputs": [
    {
     "name": "stdout",
     "output_type": "stream",
     "text": [
      "Second largest element is: 98\n",
      "Second largest element is: 45\n"
     ]
    }
   ],
   "source": [
    "list1 = [10, 20, 20, 4, 45, 45, 45, 98, 99]\n",
    " \n",
    "list1.sort()\n",
    " \n",
    "print(\"Second largest element is:\", list1[-2])\n",
    "print(\"Second largest element is:\", list1[-3])"
   ]
  },
  {
   "cell_type": "markdown",
   "id": "c7ae2f08",
   "metadata": {},
   "source": [
    "## 6. Write a Python program to find N largest elements from a list?"
   ]
  },
  {
   "cell_type": "code",
   "execution_count": 6,
   "id": "acfc6cc2",
   "metadata": {},
   "outputs": [
    {
     "name": "stdout",
     "output_type": "stream",
     "text": [
      "2 max elements in  [2, 6, 41, 85, 0, 3, 7, 6, 100]\n",
      "[100, 85]\n"
     ]
    }
   ],
   "source": [
    "def N_max_elements(list, N):\n",
    "    result_list = []\n",
    "  \n",
    "    for i in range(0, N): \n",
    "        maximum = 0\n",
    "          \n",
    "        for j in range(len(list)):     \n",
    "            if list[j] > maximum:\n",
    "                maximum = list[j]\n",
    "                  \n",
    "        list.remove(maximum)\n",
    "        result_list.append(maximum)\n",
    "          \n",
    "    return result_list\n",
    "  \n",
    "list1 = [2, 6, 41, 85, 0, 3, 7, 6, 100]\n",
    "N = 2\n",
    "\n",
    "print(N, \"max elements in \",list1)\n",
    "print(N_max_elements(list1, N))"
   ]
  },
  {
   "cell_type": "markdown",
   "id": "978b11d3",
   "metadata": {},
   "source": [
    "## 7. Write a Python program to print even numbers in a list?"
   ]
  },
  {
   "cell_type": "code",
   "execution_count": 7,
   "id": "c7322210",
   "metadata": {},
   "outputs": [
    {
     "name": "stdout",
     "output_type": "stream",
     "text": [
      "enter the number 4\n",
      "Number, is even \n"
     ]
    }
   ],
   "source": [
    "Number = int(input(\"enter the number \"))\n",
    "if Number % 2 == 0 :\n",
    "  print(\"Number, is even \")\n",
    "else:\n",
    "  print(\"Number, entered number is\")"
   ]
  },
  {
   "cell_type": "markdown",
   "id": "959e82ba",
   "metadata": {},
   "source": [
    "## 8. Write a Python program to print odd numbers in a List?"
   ]
  },
  {
   "cell_type": "code",
   "execution_count": 8,
   "id": "f80b345f",
   "metadata": {},
   "outputs": [
    {
     "name": "stdout",
     "output_type": "stream",
     "text": [
      "enter the number 31\n",
      "Number, is odd \n"
     ]
    }
   ],
   "source": [
    "Number = int(input(\"enter the number \"))\n",
    "if Number % 1 == 0 :\n",
    "  print(\"Number, is odd \")\n",
    "else:\n",
    "  print(\"Number, entered number is\")"
   ]
  },
  {
   "cell_type": "markdown",
   "id": "09f85707",
   "metadata": {},
   "source": [
    "## 9. Write a Python program to Remove empty List from List?"
   ]
  },
  {
   "cell_type": "code",
   "execution_count": 9,
   "id": "e4682551",
   "metadata": {},
   "outputs": [
    {
     "name": "stdout",
     "output_type": "stream",
     "text": [
      "List of List =  [[5], [54, 545, 9], [], [1, 4, 7], [], [8, 2, 5]]\n",
      "List without empty list:  [[5], [54, 545, 9], [1, 4, 7], [8, 2, 5]]\n"
     ]
    }
   ],
   "source": [
    "listofList = [[5], [54, 545,9], [], [1, 4, 7], [], [8, 2, 5] ]\n",
    "\n",
    "print(\"List of List = \", end = \" \")\n",
    "print(listofList)\n",
    "\n",
    "nonEmptyList = [] \n",
    "\n",
    "nonEmptyList = [listEle for listEle in listofList if listEle != []]\n",
    "\n",
    "print(\"List without empty list: \", end = \" \" )\n",
    "print(nonEmptyList)"
   ]
  },
  {
   "cell_type": "markdown",
   "id": "c26b8929",
   "metadata": {},
   "source": [
    "## 10. Write a Python program to Cloning or Copying a list?"
   ]
  },
  {
   "cell_type": "code",
   "execution_count": 10,
   "id": "679b4346",
   "metadata": {},
   "outputs": [
    {
     "name": "stdout",
     "output_type": "stream",
     "text": [
      "Old List:  [1, 2, 3, 4, 5]\n",
      "New List:  [1, 2, 3, 4, 5]\n"
     ]
    }
   ],
   "source": [
    "my_list = [1, 2, 3, 4, 5]\n",
    "copy_list = my_list\n",
    "print('Old List: ', my_list)\n",
    "print('New List: ', copy_list)"
   ]
  },
  {
   "cell_type": "markdown",
   "id": "5220016c",
   "metadata": {},
   "source": [
    "## 11. Write a Python program to Count occurrences of an element in a list?"
   ]
  },
  {
   "cell_type": "code",
   "execution_count": null,
   "id": "ac6f64c1",
   "metadata": {},
   "outputs": [],
   "source": [
    "#occurrences in list\n",
    "\n",
    "#function for counting\n",
    "def count_occurrence(list, n):\n",
    "    \n",
    "#counter variable\n",
    "    count=0\n",
    "    for i in list:\n",
    "        if(i==n):\n",
    "         \n",
    "            count=count+1\n",
    "    return count\n",
    "\n",
    "li=[]\n",
    "n=int(input(\"Enter size of list \"))\n",
    "for i in range(0,n):\n",
    "    e=int(input(\"Enter element of list \"))\n",
    "    li.append(e)\n",
    "print(\"Original list: \",li)\n",
    "\n",
    "x=int(input(\"Enter element to be checked list: \"))\n",
    "\n",
    "print(x,\" has occurred \",count_occurrence(li, x),\"times\")"
   ]
  },
  {
   "cell_type": "code",
   "execution_count": null,
   "id": "e9bb9b18",
   "metadata": {},
   "outputs": [],
   "source": []
  }
 ],
 "metadata": {
  "kernelspec": {
   "display_name": "Python 3 (ipykernel)",
   "language": "python",
   "name": "python3"
  },
  "language_info": {
   "codemirror_mode": {
    "name": "ipython",
    "version": 3
   },
   "file_extension": ".py",
   "mimetype": "text/x-python",
   "name": "python",
   "nbconvert_exporter": "python",
   "pygments_lexer": "ipython3",
   "version": "3.9.13"
  }
 },
 "nbformat": 4,
 "nbformat_minor": 5
}
