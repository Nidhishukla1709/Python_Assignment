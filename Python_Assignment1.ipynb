{
 "cells": [
  {
   "cell_type": "markdown",
   "id": "829179cd",
   "metadata": {},
   "source": [
    "# Programming Assignment_1\n",
    "# 1. Write a Python program to print \"Hello Python\"?"
   ]
  },
  {
   "cell_type": "code",
   "execution_count": 1,
   "id": "c65a9234",
   "metadata": {},
   "outputs": [
    {
     "name": "stdout",
     "output_type": "stream",
     "text": [
      "Hello Python\n"
     ]
    }
   ],
   "source": [
    "print(\"Hello Python\")"
   ]
  },
  {
   "cell_type": "markdown",
   "id": "62021dbc",
   "metadata": {},
   "source": [
    "# 2. Write a Python program to do arithmetical operations addition and division.?"
   ]
  },
  {
   "cell_type": "code",
   "execution_count": 4,
   "id": "2edf069c",
   "metadata": {},
   "outputs": [
    {
     "name": "stdout",
     "output_type": "stream",
     "text": [
      "12\n",
      "5.0\n"
     ]
    }
   ],
   "source": [
    "a = 10\n",
    "b = 2\n",
    "add = a + b\n",
    "div = a/b\n",
    "\n",
    "print(add)\n",
    "print(div)"
   ]
  },
  {
   "cell_type": "markdown",
   "id": "79381da2",
   "metadata": {},
   "source": [
    "# 3. Write a Python program to find the area of a triangle?"
   ]
  },
  {
   "cell_type": "code",
   "execution_count": 5,
   "id": "c0add960",
   "metadata": {},
   "outputs": [
    {
     "name": "stdout",
     "output_type": "stream",
     "text": [
      "Area of triangle = 1250.0\n"
     ]
    }
   ],
   "source": [
    "height = 100\n",
    "base = 25\n",
    "area = height*base/2\n",
    "\n",
    "print(\"Area of triangle =\", area)"
   ]
  },
  {
   "cell_type": "markdown",
   "id": "1e6c1685",
   "metadata": {},
   "source": [
    "# 4. Write a Python program to swap two variables?"
   ]
  },
  {
   "cell_type": "code",
   "execution_count": 6,
   "id": "c00c2394",
   "metadata": {},
   "outputs": [
    {
     "name": "stdout",
     "output_type": "stream",
     "text": [
      "Before swapping:\n",
      "The value of var1 and var2 are 123 111\n",
      "After swapping:\n",
      "The value of var1 and var2 are 111 123\n"
     ]
    }
   ],
   "source": [
    "var1 = 123\n",
    "var2 = 111\n",
    "\n",
    "print('Before swapping:\\nThe value of var1 and var2 are',var1, var2)\n",
    "\n",
    "temp = var1\n",
    "var1 = var2\n",
    "var2 = temp\n",
    "print('After swapping:\\nThe value of var1 and var2 are',var1, var2)"
   ]
  },
  {
   "cell_type": "markdown",
   "id": "262be5c3",
   "metadata": {},
   "source": [
    "# 5. Write a Python program to generate a random number?"
   ]
  },
  {
   "cell_type": "code",
   "execution_count": 8,
   "id": "f61e8d78",
   "metadata": {},
   "outputs": [
    {
     "name": "stdout",
     "output_type": "stream",
     "text": [
      "0.5399965308242252\n",
      "321\n"
     ]
    }
   ],
   "source": [
    "import random\n",
    "\n",
    "print(random.random())\n",
    "print(random.randint(1, 1000))"
   ]
  },
  {
   "cell_type": "code",
   "execution_count": null,
   "id": "489cdbd6",
   "metadata": {},
   "outputs": [],
   "source": []
  }
 ],
 "metadata": {
  "kernelspec": {
   "display_name": "Python 3 (ipykernel)",
   "language": "python",
   "name": "python3"
  },
  "language_info": {
   "codemirror_mode": {
    "name": "ipython",
    "version": 3
   },
   "file_extension": ".py",
   "mimetype": "text/x-python",
   "name": "python",
   "nbconvert_exporter": "python",
   "pygments_lexer": "ipython3",
   "version": "3.9.13"
  }
 },
 "nbformat": 4,
 "nbformat_minor": 5
}
